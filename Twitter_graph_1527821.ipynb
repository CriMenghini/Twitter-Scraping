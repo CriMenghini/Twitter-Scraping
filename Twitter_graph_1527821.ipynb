{
 "cells": [
  {
   "cell_type": "markdown",
   "metadata": {},
   "source": [
    "# Project 2 - Algorithmic methods for data mining\n",
    "## Construction of the graph\n",
    "Cristina Menghini - StudentID : 1527821"
   ]
  },
  {
   "cell_type": "markdown",
   "metadata": {},
   "source": [
    "At first I define the collection of Project db that I will use to store the informations about the graph."
   ]
  },
  {
   "cell_type": "code",
   "execution_count": 6,
   "metadata": {
    "collapsed": true
   },
   "outputs": [],
   "source": [
    "import pymongo\n",
    "from pymongo import MongoClient\n",
    "# Define the client of the db\n",
    "client = MongoClient('localhost', 27017)\n",
    "# Create the database\n",
    "project_2 = client['Project']"
   ]
  },
  {
   "cell_type": "code",
   "execution_count": 7,
   "metadata": {
    "collapsed": false
   },
   "outputs": [],
   "source": [
    "# Create the collection for the graph infos\n",
    "collection = project_2['Collection_Project']\n",
    "gr_in = project_2.graph_info"
   ]
  },
  {
   "cell_type": "markdown",
   "metadata": {},
   "source": [
    "Once the data have been collected, I work on the construction of the graph. In my case it is related to the query 'yearofmercy'. Before beginning I create the directed graph G, which will represent the network."
   ]
  },
  {
   "cell_type": "code",
   "execution_count": 3,
   "metadata": {
    "collapsed": true
   },
   "outputs": [],
   "source": [
    "import networkx as nx"
   ]
  },
  {
   "cell_type": "code",
   "execution_count": 4,
   "metadata": {
    "collapsed": true
   },
   "outputs": [],
   "source": [
    "G = nx.DiGraph(topic = 'Year of mercy')"
   ]
  },
  {
   "cell_type": "markdown",
   "metadata": {},
   "source": [
    "# 1. Nodes"
   ]
  },
  {
   "cell_type": "code",
   "execution_count": 5,
   "metadata": {
    "collapsed": true
   },
   "outputs": [],
   "source": [
    "import pickle"
   ]
  },
  {
   "cell_type": "markdown",
   "metadata": {},
   "source": [
    "The first step to do to build the graph is define the nodes it will be composed by. They have already been stored in the user_tweet collection of Project database and saved in the the 'users.p' file. \n"
   ]
  },
  {
   "cell_type": "code",
   "execution_count": 9,
   "metadata": {
    "collapsed": false
   },
   "outputs": [],
   "source": [
    "if project_2.user_tweet.count() == 0: # If the local MongoDB han not been filled.\n",
    "    print 'if'\n",
    "    nodes = list(pickle.load(open('users.p', 'rb'))) # Each user is a node of the graph\n",
    "else:\n",
    "    node = []\n",
    "    for post in project_2.user_tweet.find():\n",
    "        node += [post['user_id']]\n",
    "    nodes = list(set(node))"
   ]
  },
  {
   "cell_type": "markdown",
   "metadata": {},
   "source": [
    "I get the list of nodes, hence I add them to the graph."
   ]
  },
  {
   "cell_type": "code",
   "execution_count": 13,
   "metadata": {
    "collapsed": false
   },
   "outputs": [],
   "source": [
    "G.add_nodes_from(nodes) # Adding nodes to the graph"
   ]
  },
  {
   "cell_type": "markdown",
   "metadata": {},
   "source": [
    "I fill in the collection the first information about the graph: the number of nodes which it's composed."
   ]
  },
  {
   "cell_type": "code",
   "execution_count": 14,
   "metadata": {
    "collapsed": false
   },
   "outputs": [
    {
     "data": {
      "text/plain": [
       "<pymongo.results.InsertOneResult at 0xabb9f70c>"
      ]
     },
     "execution_count": 14,
     "metadata": {},
     "output_type": "execute_result"
    }
   ],
   "source": [
    "num_nodes = G.order() # Number of nodes\n",
    "gr_in.insert_one({'Number of nodes' : str(num_nodes)})"
   ]
  },
  {
   "cell_type": "markdown",
   "metadata": {},
   "source": [
    "# 2. Edges"
   ]
  },
  {
   "cell_type": "markdown",
   "metadata": {},
   "source": [
    "Since I want to study the relations and connections between the users( nodes), I add to the graph the edges. \n",
    "Distinguish between users and list of followers( each of whose is a user too), each users will be pointed by each of his followers. It's why I define a directed graph."
   ]
  },
  {
   "cell_type": "markdown",
   "metadata": {},
   "source": [
    "I proceed loading the edges from the file created in the previous steps during which I stored the followers and the relative user id."
   ]
  },
  {
   "cell_type": "code",
   "execution_count": 15,
   "metadata": {
    "collapsed": true
   },
   "outputs": [],
   "source": [
    "if project_2.user_followers.count() == 0: # If the db hasn't be filled \n",
    "    foll_saved = pickle.load(open('save.p','rb')) \n",
    "else:\n",
    "    foll_saved = [] # Load from the DB\n",
    "    for post in project_2.user_followers.find():\n",
    "        foll_saved += [post]"
   ]
  },
  {
   "cell_type": "code",
   "execution_count": 17,
   "metadata": {
    "collapsed": false
   },
   "outputs": [],
   "source": [
    "# Distinguish between users and followers to create the tuple from which I'll extract the edges.\n",
    "follower = [foll_saved[k]['follower'] for k in range(len(foll_saved))]\n",
    "user_ids = [foll_saved[k]['user_id'] for k in range(len(foll_saved))]\n",
    "# Tuple of edges\n",
    "edges = zip(follower, user_ids)"
   ]
  },
  {
   "cell_type": "markdown",
   "metadata": {},
   "source": [
    "So, I fill in the graph the edges."
   ]
  },
  {
   "cell_type": "code",
   "execution_count": 18,
   "metadata": {
    "collapsed": true
   },
   "outputs": [],
   "source": [
    "G.add_edges_from(edges) # Adding edges to the graph"
   ]
  },
  {
   "cell_type": "markdown",
   "metadata": {},
   "source": [
    "I insert in the collection also the size( number of archs)."
   ]
  },
  {
   "cell_type": "code",
   "execution_count": 20,
   "metadata": {
    "collapsed": false
   },
   "outputs": [
    {
     "data": {
      "text/plain": [
       "<pymongo.results.InsertOneResult at 0xa793db44>"
      ]
     },
     "execution_count": 20,
     "metadata": {},
     "output_type": "execute_result"
    }
   ],
   "source": [
    "num_edges = G.size()\n",
    "gr_in.insert_one({'Number of edges' : str(num_edges)})"
   ]
  },
  {
   "cell_type": "markdown",
   "metadata": {},
   "source": [
    "# 4. Analyze the graph"
   ]
  },
  {
   "cell_type": "markdown",
   "metadata": {},
   "source": [
    "## 4.1 Degree distribution"
   ]
  },
  {
   "cell_type": "code",
   "execution_count": 11,
   "metadata": {
    "collapsed": true
   },
   "outputs": [],
   "source": [
    "import matplotlib.pyplot as plt\n",
    "%matplotlib inline"
   ]
  },
  {
   "cell_type": "code",
   "execution_count": 12,
   "metadata": {
    "collapsed": false
   },
   "outputs": [],
   "source": [
    "G_deg = G.degree(G.nodes())\n",
    "G_deg_values = sorted(G_deg.values(), reverse = True)"
   ]
  },
  {
   "cell_type": "markdown",
   "metadata": {},
   "source": [
    "The following graph shows the degree( sum of in and out degree) distribution of the graph. As you see, according to the power-law, the number of users with the higest degrees is tiny, on the other hand the small values of degree correspond to an higher number of users."
   ]
  },
  {
   "cell_type": "code",
   "execution_count": 14,
   "metadata": {
    "collapsed": false
   },
   "outputs": [
    {
     "data": {
      "text/plain": [
       "<matplotlib.text.Text at 0xac65f1cc>"
      ]
     },
     "execution_count": 14,
     "metadata": {},
     "output_type": "execute_result"
    },
    {
     "data": {
      "image/png": "[encoded data removed]",
      "text/plain": [
       "<matplotlib.figure.Figure at 0xabe8b90c>"
      ]
     },
     "metadata": {},
     "output_type": "display_data"
    }
   ],
   "source": [
    "plt.loglog(G_deg_values,'o')\n",
    "plt.title('Degree distribution')\n",
    "plt.xlabel('Number of users')\n",
    "plt.ylabel('Degree')"
   ]
  },
  {
   "cell_type": "markdown",
   "metadata": {},
   "source": [
    "## 4.2 Centralities"
   ]
  },
  {
   "cell_type": "markdown",
   "metadata": {},
   "source": [
    "### 4.2.1 In-degree and out degree centrality"
   ]
  },
  {
   "cell_type": "markdown",
   "metadata": {},
   "source": [
    "The first measure of centrality I'm going to perform is the degree centrality. Since I'm considering a directed graph I'm going to compute a differentiated in-degree and out-degree centrality. Intuitively the nodes which correspond an highest value of in-degree centrality is maybe a popular twitter user reguarding the topic of my query, whereas the one with an high value of out-degree is considered as gregariousness."
   ]
  },
  {
   "cell_type": "code",
   "execution_count": 32,
   "metadata": {
    "collapsed": true
   },
   "outputs": [],
   "source": [
    "def getKey(item):\n",
    "    \"\"\"This function gives back the second element of a tuple.\n",
    "    -item is the tuple\"\"\"\n",
    "    return item[1]"
   ]
  },
  {
   "cell_type": "code",
   "execution_count": 33,
   "metadata": {
    "collapsed": false
   },
   "outputs": [],
   "source": [
    "# In-degree centrality\n",
    "in_deg_centrality = nx.in_degree_centrality(G)\n",
    "tuples_in_deg = in_deg_centrality.items()\n",
    "in_deg_centralities_sorted = sorted(tuples_in_deg, key = getKey)\n",
    "top_10_in_deg_centr = in_deg_centralities_sorted[-10:]"
   ]
  },
  {
   "cell_type": "markdown",
   "metadata": {},
   "source": [
    "The plot below shows the distribution of the in-degree centrality, also in that case we observe the presence of a very restricted number of users that may be considered 'popular'."
   ]
  },
  {
   "cell_type": "code",
   "execution_count": 28,
   "metadata": {
    "collapsed": false
   },
   "outputs": [
    {
     "data": {
      "text/plain": [
       "<matplotlib.text.Text at 0xaceb18ac>"
      ]
     },
     "execution_count": 28,
     "metadata": {},
     "output_type": "execute_result"
    },
    {
     "data": {
      "image/png": "[encoded data removed]",
      "text/plain": [
       "<matplotlib.figure.Figure at 0xa9622cac>"
      ]
     },
     "metadata": {},
     "output_type": "display_data"
    }
   ],
   "source": [
    "in_deg_values = sorted(in_deg_centrality.values(), reverse =  True)\n",
    "plt.loglog(in_deg_values, 'o')\n",
    "plt.title('In-degree centrality distribution')\n",
    "plt.xlabel('Number of users')\n",
    "plt.ylabel('In-degree centrality')"
   ]
  },
  {
   "cell_type": "code",
   "execution_count": 34,
   "metadata": {
    "collapsed": true
   },
   "outputs": [],
   "source": [
    "# Out-degree centrality\n",
    "out_deg_centrality = nx.out_degree_centrality(G)\n",
    "tuples_out_deg = out_deg_centrality.items()\n",
    "out_deg_centralities_sorted = sorted(tuples_out_deg, key = getKey)\n",
    "top_10_out_deg_centr = out_deg_centralities_sorted[-10:]"
   ]
  },
  {
   "cell_type": "markdown",
   "metadata": {},
   "source": [
    "Respect the previous plot, aboiut the in-degrees cerntrality distribution, the plot below shows a sharply decrease of the out-degree centrality when the number of nodes that present that value increases. A part from this, the overall distributions are more ore less the same."
   ]
  },
  {
   "cell_type": "code",
   "execution_count": 29,
   "metadata": {
    "collapsed": false
   },
   "outputs": [
    {
     "data": {
      "text/plain": [
       "<matplotlib.text.Text at 0xabe2ef6c>"
      ]
     },
     "execution_count": 29,
     "metadata": {},
     "output_type": "execute_result"
    },
    {
     "data": {
      "image/png": "[encoded data removed]",
      "text/plain": [
       "<matplotlib.figure.Figure at 0xa9b5e50c>"
      ]
     },
     "metadata": {},
     "output_type": "display_data"
    }
   ],
   "source": [
    "out_deg_values = sorted(out_deg_centrality.values(), reverse =  True)\n",
    "plt.loglog(out_deg_values, 'o')\n",
    "plt.title('Out-degree centrality distribution')\n",
    "plt.xlabel('Number of users')\n",
    "plt.ylabel('Out-Degree centrality')"
   ]
  },
  {
   "cell_type": "markdown",
   "metadata": {},
   "source": [
    "### 4.2.2 Closeness centrality"
   ]
  },
  {
   "cell_type": "code",
   "execution_count": 35,
   "metadata": {
    "collapsed": true
   },
   "outputs": [],
   "source": [
    "# Closeness centralities\n",
    "clos_centrality = nx.closeness_centrality(G)\n",
    "clos_values = sorted(clos_centrality.values(), reverse =  True)"
   ]
  },
  {
   "cell_type": "code",
   "execution_count": 36,
   "metadata": {
    "collapsed": true
   },
   "outputs": [],
   "source": [
    "# Get the top 10 nodes \n",
    "tuples_clos = clos_centrality.items()\n",
    "clos_centralities_sorted = sorted(tuples_clos, key = getKey) # Sort the nodes according to their centrality values\n",
    "top_10_clos_centr = clos_centralities_sorted[-10:]"
   ]
  },
  {
   "cell_type": "code",
   "execution_count": 105,
   "metadata": {
    "collapsed": false
   },
   "outputs": [
    {
     "data": {
      "text/plain": [
       "<matplotlib.text.Text at 0xaba3902c>"
      ]
     },
     "execution_count": 105,
     "metadata": {},
     "output_type": "execute_result"
    },
    {
     "data": {
      "image/png": "[encoded data removed]",
      "text/plain": [
       "<matplotlib.figure.Figure at 0xaaf9254c>"
      ]
     },
     "metadata": {},
     "output_type": "display_data"
    }
   ],
   "source": [
    "#Plot of the closeness centrality distribution\n",
    "plt.loglog(clos_values, 'o')\n",
    "plt.title('Closeness centrality distribution')\n",
    "plt.xlabel('Rank')\n",
    "plt.ylabel('Closeness centrality')"
   ]
  },
  {
   "cell_type": "markdown",
   "metadata": {},
   "source": [
    "### 4.2.3 Betweeness centrality"
   ]
  },
  {
   "cell_type": "markdown",
   "metadata": {},
   "source": [
    "Computation of the betweenes of the graph will take some time, as an alternative you can skip to run this line of code and just go ahead to the next one where I recall a document that stores the betweenes already computed."
   ]
  },
  {
   "cell_type": "code",
   "execution_count": 106,
   "metadata": {
    "collapsed": true
   },
   "outputs": [],
   "source": [
    "# Betweeness centralities\n",
    "btw_centrality = nx.betweenness_centrality(G)\n",
    "import pickle\n",
    "pickle.dump( btw_centrality, open('betweeness.p', 'wb')) # Store the variable file."
   ]
  },
  {
   "cell_type": "markdown",
   "metadata": {},
   "source": [
    "Already computed betweeness"
   ]
  },
  {
   "cell_type": "code",
   "execution_count": 37,
   "metadata": {
    "collapsed": true
   },
   "outputs": [],
   "source": [
    "btw_centrality = pickle.load(open('betweeness.p','rb')) # Load the betweenes centrality"
   ]
  },
  {
   "cell_type": "code",
   "execution_count": 38,
   "metadata": {
    "collapsed": true
   },
   "outputs": [],
   "source": [
    "btw_values =  sorted(btw_centrality.values(), reverse = True)"
   ]
  },
  {
   "cell_type": "code",
   "execution_count": 41,
   "metadata": {
    "collapsed": true
   },
   "outputs": [],
   "source": [
    "tuples_btw = btw_centrality.items()\n",
    "btw_centralities_sorted = sorted(tuples_btw, key = getKey)\n",
    "top_10_btw_centr = btw_centralities_sorted[-10:]"
   ]
  },
  {
   "cell_type": "code",
   "execution_count": 111,
   "metadata": {
    "collapsed": false
   },
   "outputs": [
    {
     "data": {
      "text/plain": [
       "<matplotlib.text.Text at 0xa905064c>"
      ]
     },
     "execution_count": 111,
     "metadata": {},
     "output_type": "execute_result"
    },
    {
     "data": {
      "image/png": "[encoded data removed]",
      "text/plain": [
       "<matplotlib.figure.Figure at 0xaaf385ec>"
      ]
     },
     "metadata": {},
     "output_type": "display_data"
    }
   ],
   "source": [
    "#Plot of the betweeness centrality \n",
    "plt.loglog(btw_values, 'o')\n",
    "plt.title('Betweeness centrality')\n",
    "plt.xlabel('Node')\n",
    "plt.ylabel('Betweeness centrality')"
   ]
  },
  {
   "cell_type": "markdown",
   "metadata": {},
   "source": [
    "### 4.2.4 Page Rank centralities"
   ]
  },
  {
   "cell_type": "markdown",
   "metadata": {},
   "source": [
    "Now I'm going to compute the Page Rank centrality as a way of measuring the importance of a user."
   ]
  },
  {
   "cell_type": "code",
   "execution_count": 39,
   "metadata": {
    "collapsed": false
   },
   "outputs": [],
   "source": [
    "# Page rank centrality\n",
    "pr_centrality = nx.pagerank(G)\n",
    "tuples_pr = pr_centrality.items()\n",
    "pr_centralities_sorted = sorted(tuples_pr, key = getKey)\n",
    "top_10_pr_centr = pr_centralities_sorted[-10:]"
   ]
  },
  {
   "cell_type": "code",
   "execution_count": 194,
   "metadata": {
    "collapsed": false
   },
   "outputs": [
    {
     "data": {
      "text/plain": [
       "<matplotlib.text.Text at 0xac27a56c>"
      ]
     },
     "execution_count": 194,
     "metadata": {},
     "output_type": "execute_result"
    },
    {
     "data": {
      "image/png": "[encoded data removed]",
      "text/plain": [
       "<matplotlib.figure.Figure at 0xad144cec>"
      ]
     },
     "metadata": {},
     "output_type": "display_data"
    }
   ],
   "source": [
    "# Plot of the PageRank centrality\n",
    "plt.loglog(sorted(pr_centrality.values(),reverse = True), 'o')\n",
    "plt.title('Page Rank centrality')\n",
    "plt.xlabel('Nodes')\n",
    "plt.ylabel('Page Rank')"
   ]
  },
  {
   "cell_type": "markdown",
   "metadata": {},
   "source": [
    "### 4.2.5 Fill in the database"
   ]
  },
  {
   "cell_type": "markdown",
   "metadata": {},
   "source": [
    "Create the collections that contains the informations of each node of the graph."
   ]
  },
  {
   "cell_type": "code",
   "execution_count": 199,
   "metadata": {
    "collapsed": true
   },
   "outputs": [],
   "source": [
    "# Create the collection for the nodes infos\n",
    "collection = project_2['Collection_Project']\n",
    "no_in = project_2.nodes_info"
   ]
  },
  {
   "cell_type": "code",
   "execution_count": 200,
   "metadata": {
    "collapsed": false
   },
   "outputs": [
    {
     "data": {
      "text/plain": [
       "<pymongo.results.InsertManyResult at 0xad16ffa4>"
      ]
     },
     "execution_count": 200,
     "metadata": {},
     "output_type": "execute_result"
    }
   ],
   "source": [
    "no_in.insert_many([{'Node' : nodes[n], 'In-degree centrality' : in_deg_centrality[nodes[n]] , 'Out-degree centrality' : out_deg_centrality[nodes[n]], 'Closness centrality' : clos_centrality[nodes[n]], 'Betweeness centrality' : btw_centrality[nodes[n]], 'Page Rank centrality' : pr_centrality[nodes[n]]} for n in range(len(nodes))])"
   ]
  },
  {
   "cell_type": "markdown",
   "metadata": {},
   "source": [
    "### 4.2.6 Summary"
   ]
  },
  {
   "cell_type": "markdown",
   "metadata": {},
   "source": [
    "Before building the summary table, I need to get the screen names of the users. Hence, first I create a unique list of the most relevant( according to the centralities) users, then retrieve their screen name and finally create a dictionary likes:\n",
    "\n",
    "                        {'user' : '19283', 'screen_name' : 'picchiopazzerello'}"
   ]
  },
  {
   "cell_type": "code",
   "execution_count": 45,
   "metadata": {
    "collapsed": true
   },
   "outputs": [],
   "source": [
    "# Create the list of top 10 users\n",
    "tops_list =  top_10_btw_centr+top_10_clos_centr+top_10_in_deg_centr+top_10_out_deg_centr+top_10_pr_centr\n",
    "list_top = []\n",
    "for i in range(len(tops_list)):\n",
    "    list_top += [tops_list[i][0]]"
   ]
  },
  {
   "cell_type": "code",
   "execution_count": 46,
   "metadata": {
    "collapsed": true
   },
   "outputs": [],
   "source": [
    "# Do the set of the list_top, to pick the user each of whose I'm going to retrieve the screen name\n",
    "set_top = set(list_top)"
   ]
  },
  {
   "cell_type": "code",
   "execution_count": 43,
   "metadata": {
    "collapsed": true
   },
   "outputs": [],
   "source": [
    "import tweepy\n",
    "from tweepy import OAuthHandler"
   ]
  },
  {
   "cell_type": "code",
   "execution_count": 44,
   "metadata": {
    "collapsed": true
   },
   "outputs": [],
   "source": [
    "cfg = { \n",
    "    \"consumer_key\"        : \"FIdkHUbZuNjNxyPfImqI9TFXN\",\n",
    "    \"consumer_secret\"     : \"lVyiiX67XiU3EkvsrC20yj2pDPhsQvUNFGr2FuGdvdmJxd1vwM\",\n",
    "    \"access_token\"        : \"633193657-arMpLiTtLAlAGDfkUUqcPnx4obmgrE7VkTRUgJmO\",\n",
    "    \"access_token_secret\" : \"2TLsxc9FUYUYVpeaTkPGkuL7Nmk5PwQQv5q9JbdrACZh8\" \n",
    "}\n",
    "\n",
    "auth = OAuthHandler(cfg[\"consumer_key\"], cfg[\"consumer_secret\"])\n",
    "auth.set_access_token(cfg[\"access_token\"], cfg[\"access_token_secret\"]) \n",
    "api = tweepy.API(auth)"
   ]
  },
  {
   "cell_type": "code",
   "execution_count": 47,
   "metadata": {
    "collapsed": false
   },
   "outputs": [],
   "source": [
    "# Retrieve the screen names\n",
    "dic_screen_names = {}\n",
    "for s in set_top:\n",
    "    dic_screen_names[s] = api.get_user(s).name"
   ]
  },
  {
   "cell_type": "markdown",
   "metadata": {},
   "source": [
    "To summarize the analisys of different kind of centralities I build the following table that shows the top ten of each centrality."
   ]
  },
  {
   "cell_type": "markdown",
   "metadata": {},
   "source": [
    "Top 10 | In-degree | Out-degree | Closeness | Betweeness | Page Rank\n",
    ":-:|:-:|:-:|:-:|:-:|:-:|\n",
    "1 | Catholic News Agency | TradCatKnight| TradCatKnight | Catholic News Agency | Catholic News Svc |\n",
    "2 | Catholic News Svc | Fr Matthew Schneider | Fr Matthew Schneider | TradCatKnight | Catholic News Agency |\n",
    "3 | N. Catholic Register| Catholic News Agency | Kathryn Jean Lopez | Kathryn Jean Lopez | N. Catholic Register |\n",
    "4 | James Martin, SJ | Kathryn Jean Lopez | Catholic News Agency | CatholicsFollowBack | Rocco Palmo |\n",
    "5 | Our Sunday Visitor | Fr. Willy Raymond | Fr. Willy Raymond | American Catholic | Our Sunday Visitor |\n",
    "6 | Catholic Herald | Dr. Brian Kiczek | Dr. Brian Kiczek | Dr. Brian Kiczek | James Martin, SJ |\n",
    "7 | Sr Helena Burns, fsp | CatholicsFollowBack | CatholicsFollowBack | Catholic News Svc | Archbishop Gomez |\n",
    "8 | Knights of Columbus | Power of the Rosary | Power of the Rosary | Sr Helena Burns, fsp | Knights of Columbus |\n",
    "9 | Archbishop Gomez | James Goodman | James Goodman | Our Sunday Visitor | Catholic Herald |\n",
    "10 | Rocco Palmo | Fr Brad Sweet | SonsofSaintJoseph | James Goodman | Sr Helena Burns, fsp |"
   ]
  },
  {
   "cell_type": "markdown",
   "metadata": {},
   "source": [
    "Focusing on the top 3 users of the different centralities, we find that:\n",
    "\n",
    "-Respect the network I'm studying the most popular Twitter users( In-degree centrality), related to the topic 'yearofmercy', are three pages of information about the Catholic World. Infact, pursuant to their Twitter descriptions:\n",
    "   - Chatholic News Agency provides the latest news about the Catholic Church and the Catholic faithful.\n",
    "   - Catholic News Svc is a leader in religious news. \"Our mission is to report fully, fairly and freely on the involvement of the church in the world today.\"\n",
    "   - N. Catholic Register, \"Our mission is to inform, inspire, challenge and equip active Catholics to engage the culture with confidence.\"\n",
    "\n",
    "\n",
    "\n",
    "-\n",
    "The importance of these pages in the network is also stressed by leaderboard related to the PageRank centrality.\n",
    "\n",
    "\n",
    "\n",
    "-\n",
    "Reguarding the out-degree and closeness centrality we observe the importance of the TradCatKnight, which is a page dedicated to the Traditional Catholicism, and Fr Matthew Schneider, who is a Catholic religious priest, are both predominant.\n",
    "\n",
    "\n",
    "\n",
    "-\n",
    "The three users that appear the high number of time in the paths that connect users are the Chatholic News Agency, the TradCatKnight and Kathryn Jean Lopez that menages a National Review Online."
   ]
  },
  {
   "cell_type": "markdown",
   "metadata": {},
   "source": [
    "N.B.\n",
    "The previous table and considerations will not be created automatically by the code, are just hand-made. If you want to obtain the information that I fill in the table by hand just follow that procedure:"
   ]
  },
  {
   "cell_type": "code",
   "execution_count": 49,
   "metadata": {
    "collapsed": false
   },
   "outputs": [],
   "source": [
    "centralities = [top_10_in_deg_centr,top_10_out_deg_centr, top_10_btw_centr, top_10_clos_centr, top_10_pr_centr]"
   ]
  },
  {
   "cell_type": "code",
   "execution_count": 68,
   "metadata": {
    "collapsed": true
   },
   "outputs": [],
   "source": [
    "names = []\n",
    "for j in range(len(centralities)):\n",
    "    names.append([dic_screen_names[centralities[j][i][0]] for i in range(len(centralities[j]))])"
   ]
  },
  {
   "cell_type": "markdown",
   "metadata": {},
   "source": [
    "Each list of names, goes from the top to the bottom."
   ]
  },
  {
   "cell_type": "markdown",
   "metadata": {},
   "source": [
    "## 4.3 Clustering coefficient"
   ]
  },
  {
   "cell_type": "markdown",
   "metadata": {},
   "source": [
    "The clustering coefficient is the most common way of measuring the correlation coefficient that tell us how much do friends of friends tend to be friend."
   ]
  },
  {
   "cell_type": "markdown",
   "metadata": {},
   "source": [
    "### 4.3.1 Clustering coefficient of some nodes of the graph"
   ]
  },
  {
   "cell_type": "code",
   "execution_count": 21,
   "metadata": {
    "collapsed": false
   },
   "outputs": [],
   "source": [
    "# Choose nodes randomly\n",
    "import numpy as np\n",
    "indices = np.random.randint(0,len(nodes), size = 20)\n",
    "sub_nodes = [nodes[i] for i in indices]"
   ]
  },
  {
   "cell_type": "code",
   "execution_count": 22,
   "metadata": {
    "collapsed": false
   },
   "outputs": [],
   "source": [
    "#Compute their clustering coefficient\n",
    "G_un = G.to_undirected()\n",
    "clu_coeff = nx.clustering(G_un, sub_nodes)"
   ]
  },
  {
   "cell_type": "markdown",
   "metadata": {},
   "source": [
    "### 4.3.2 Clustering coefficient of the graph"
   ]
  },
  {
   "cell_type": "code",
   "execution_count": 23,
   "metadata": {
    "collapsed": true
   },
   "outputs": [],
   "source": [
    "# Compute the global clustering coefficient as the average clustering coefficient\n",
    "avg_coeff = nx.average_clustering(G_un)"
   ]
  },
  {
   "cell_type": "markdown",
   "metadata": {},
   "source": [
    "As an information of the graph I insert it to the collection graph_information of the Project db."
   ]
  },
  {
   "cell_type": "code",
   "execution_count": 24,
   "metadata": {
    "collapsed": false
   },
   "outputs": [
    {
     "data": {
      "text/plain": [
       "<pymongo.results.InsertOneResult at 0xa793df2c>"
      ]
     },
     "execution_count": 24,
     "metadata": {},
     "output_type": "execute_result"
    }
   ],
   "source": [
    "gr_in.insert_one({'Average clustering coefficient' : str(avg_coeff)})"
   ]
  },
  {
   "cell_type": "markdown",
   "metadata": {},
   "source": [
    "## 4.4 Connected components"
   ]
  },
  {
   "cell_type": "code",
   "execution_count": 73,
   "metadata": {
    "collapsed": true
   },
   "outputs": [],
   "source": [
    "from collections import defaultdict"
   ]
  },
  {
   "cell_type": "code",
   "execution_count": 25,
   "metadata": {
    "collapsed": false
   },
   "outputs": [
    {
     "name": "stdout",
     "output_type": "stream",
     "text": [
      "305\n"
     ]
    }
   ],
   "source": [
    "# Compute the connected components of the graph\n",
    "CC = nx.connected_components(G_un)\n",
    "num_connected_com = nx.number_connected_components(G_un) # number of connected components\n",
    "print num_connected_com"
   ]
  },
  {
   "cell_type": "markdown",
   "metadata": {},
   "source": [
    "Insert the number of connected components in the collection graph_info."
   ]
  },
  {
   "cell_type": "code",
   "execution_count": 26,
   "metadata": {
    "collapsed": false
   },
   "outputs": [
    {
     "data": {
      "text/plain": [
       "<pymongo.results.InsertOneResult at 0xa5f5b02c>"
      ]
     },
     "execution_count": 26,
     "metadata": {},
     "output_type": "execute_result"
    }
   ],
   "source": [
    "gr_in.insert_one({'Number of CC' : str(num_connected_com) })"
   ]
  },
  {
   "cell_type": "code",
   "execution_count": 90,
   "metadata": {
    "collapsed": false
   },
   "outputs": [],
   "source": [
    "order_CC = defaultdict(int)\n",
    "for c in CC:\n",
    "    order_CC[len(c)] += 1 # Count how many components have the same length"
   ]
  },
  {
   "cell_type": "markdown",
   "metadata": {},
   "source": [
    "The graph has 305 connected components, 293 of whose are composed by one node, 10 by two nodes, and one big component include 3729 nodes, it means that any two users of the 3729 users of the biggest component are connected to each other by paths."
   ]
  },
  {
   "cell_type": "code",
   "execution_count": 91,
   "metadata": {
    "collapsed": false
   },
   "outputs": [
    {
     "data": {
      "text/plain": [
       "defaultdict(int, {1: 293, 2: 10, 3: 1, 3729: 1})"
      ]
     },
     "execution_count": 91,
     "metadata": {},
     "output_type": "execute_result"
    }
   ],
   "source": [
    "order_CC"
   ]
  },
  {
   "cell_type": "markdown",
   "metadata": {},
   "source": [
    "## 4.5 K-core decomposition"
   ]
  },
  {
   "cell_type": "markdown",
   "metadata": {},
   "source": [
    "Since the value of K is not specified, I let the algorithm work antil the value of k after that we would ha the degeneracy of the graph."
   ]
  },
  {
   "cell_type": "code",
   "execution_count": 92,
   "metadata": {
    "collapsed": true
   },
   "outputs": [],
   "source": [
    "# Perform the k-core decomposition of the largest graph\n",
    "largest_connected_components = max(list(nx.connected_component_subgraphs(G_un)), key = len)\n",
    "k_core_decomposition = nx.k_core(largest_connected_components)"
   ]
  },
  {
   "cell_type": "code",
   "execution_count": 97,
   "metadata": {
    "collapsed": false
   },
   "outputs": [],
   "source": [
    "degrees_k_core = []\n",
    "for k in k_core_decomposition:\n",
    "    degrees_k_core += [G.degree(k)] # The elements of degrees_k_core list are the degrees of each node that belong the K-core"
   ]
  },
  {
   "cell_type": "code",
   "execution_count": 100,
   "metadata": {
    "collapsed": false
   },
   "outputs": [],
   "source": [
    "k = min(degrees_k_core)"
   ]
  },
  {
   "cell_type": "markdown",
   "metadata": {},
   "source": [
    "The k of the graph before the degeneracy is 153."
   ]
  }
 ],
 "metadata": {
  "kernelspec": {
   "display_name": "Python 2",
   "language": "python",
   "name": "python2"
  },
  "language_info": {
   "codemirror_mode": {
    "name": "ipython",
    "version": 2
   },
   "file_extension": ".py",
   "mimetype": "text/x-python",
   "name": "python",
   "nbconvert_exporter": "python",
   "pygments_lexer": "ipython2",
   "version": "2.7.10"
  }
 },
 "nbformat": 4,
 "nbformat_minor": 0
}
